{
 "cells": [
  {
   "cell_type": "code",
   "execution_count": 1,
   "id": "9e2b45d8",
   "metadata": {},
   "outputs": [],
   "source": [
    "from qiskit import *"
   ]
  },
  {
   "cell_type": "code",
   "execution_count": 2,
   "id": "15dd555a",
   "metadata": {},
   "outputs": [
    {
     "data": {
      "image/png": "[encoded data removed]",
      "text/plain": [
       "<Figure size 116.697x264.88 with 1 Axes>"
      ]
     },
     "execution_count": 2,
     "metadata": {},
     "output_type": "execute_result"
    }
   ],
   "source": [
    "circuit = QuantumCircuit(3,3)\n",
    "%matplotlib inline\n",
    "circuit.draw(output='mpl')"
   ]
  },
  {
   "cell_type": "code",
   "execution_count": 6,
   "id": "b102bd19",
   "metadata": {},
   "outputs": [
    {
     "data": {
      "image/png": "[encoded data removed]",
      "text/plain": [
       "<Figure size 568.197x264.88 with 1 Axes>"
      ]
     },
     "execution_count": 6,
     "metadata": {},
     "output_type": "execute_result"
    }
   ],
   "source": [
    "circuit.x([0])\n",
    "circuit.barrier()\n",
    "circuit.draw(output='mpl')"
   ]
  },
  {
   "cell_type": "code",
   "execution_count": 11,
   "id": "8d4fadc1",
   "metadata": {},
   "outputs": [
    {
     "data": {
      "text/plain": [
       "(Instruction(name='x', num_qubits=1, num_clbits=0, params=[]),\n",
       " [Qubit(QuantumRegister(3, 'q'), 0)],\n",
       " [])"
      ]
     },
     "execution_count": 11,
     "metadata": {},
     "output_type": "execute_result"
    }
   ],
   "source": [
    "circuit.data.pop(2)"
   ]
  },
  {
   "cell_type": "code",
   "execution_count": 12,
   "id": "40266208",
   "metadata": {},
   "outputs": [
    {
     "data": {
      "text/html": [
       "<pre style=\"word-wrap: normal;white-space: pre;background: #fff0;line-height: 1.1;font-family: &quot;Courier New&quot;,Courier,monospace\">     ┌───┐ ░  ░ ┌───┐ ░ ┌───┐ ░ \n",
       "q_0: ┤ X ├─░──░─┤ X ├─░─┤ X ├─░─\n",
       "     └───┘ ░  ░ └───┘ ░ └───┘ ░ \n",
       "q_1: ──────░──░───────░───────░─\n",
       "           ░  ░       ░       ░ \n",
       "q_2: ──────░──░───────░───────░─\n",
       "           ░  ░       ░       ░ \n",
       "c: 3/═══════════════════════════\n",
       "                                </pre>"
      ],
      "text/plain": [
       "     ┌───┐ ░  ░ ┌───┐ ░ ┌───┐ ░ \n",
       "q_0: ┤ X ├─░──░─┤ X ├─░─┤ X ├─░─\n",
       "     └───┘ ░  ░ └───┘ ░ └───┘ ░ \n",
       "q_1: ──────░──░───────░───────░─\n",
       "           ░  ░       ░       ░ \n",
       "q_2: ──────░──░───────░───────░─\n",
       "           ░  ░       ░       ░ \n",
       "c: 3/═══════════════════════════\n",
       "                                "
      ]
     },
     "execution_count": 12,
     "metadata": {},
     "output_type": "execute_result"
    }
   ],
   "source": [
    "circuit.draw()"
   ]
  },
  {
   "cell_type": "code",
   "execution_count": 13,
   "id": "253a7890",
   "metadata": {},
   "outputs": [
    {
     "data": {
      "text/html": [
       "<pre style=\"word-wrap: normal;white-space: pre;background: #fff0;line-height: 1.1;font-family: &quot;Courier New&quot;,Courier,monospace\">     ┌───┐ ░  ░  ░  ░ \n",
       "q_0: ┤ X ├─░──░──░──░─\n",
       "     └───┘ ░  ░  ░  ░ \n",
       "q_1: ──────░──░──░──░─\n",
       "           ░  ░  ░  ░ \n",
       "q_2: ──────░──░──░──░─\n",
       "           ░  ░  ░  ░ \n",
       "c: 3/═════════════════\n",
       "                      </pre>"
      ],
      "text/plain": [
       "     ┌───┐ ░  ░  ░  ░ \n",
       "q_0: ┤ X ├─░──░──░──░─\n",
       "     └───┘ ░  ░  ░  ░ \n",
       "q_1: ──────░──░──░──░─\n",
       "           ░  ░  ░  ░ \n",
       "q_2: ──────░──░──░──░─\n",
       "           ░  ░  ░  ░ \n",
       "c: 3/═════════════════\n",
       "                      "
      ]
     },
     "execution_count": 13,
     "metadata": {},
     "output_type": "execute_result"
    }
   ],
   "source": [
    "circuit.data.pop(3)\n",
    "circuit.data.pop(4)\n",
    "circuit.draw()"
   ]
  },
  {
   "cell_type": "code",
   "execution_count": 14,
   "id": "25e680b6",
   "metadata": {},
   "outputs": [],
   "source": [
    "from qiskit.transpiler.passes import RemoveBarriers"
   ]
  },
  {
   "cell_type": "code",
   "execution_count": 15,
   "id": "f9cfc7f8",
   "metadata": {},
   "outputs": [],
   "source": [
    "circuit = RemoveBarriers()(circuit)"
   ]
  },
  {
   "cell_type": "code",
   "execution_count": 16,
   "id": "311c2df8",
   "metadata": {},
   "outputs": [
    {
     "data": {
      "text/html": [
       "<pre style=\"word-wrap: normal;white-space: pre;background: #fff0;line-height: 1.1;font-family: &quot;Courier New&quot;,Courier,monospace\">     ┌───┐\n",
       "q_0: ┤ X ├\n",
       "     └───┘\n",
       "q_1: ─────\n",
       "          \n",
       "q_2: ─────\n",
       "          \n",
       "c: 3/═════\n",
       "          </pre>"
      ],
      "text/plain": [
       "     ┌───┐\n",
       "q_0: ┤ X ├\n",
       "     └───┘\n",
       "q_1: ─────\n",
       "          \n",
       "q_2: ─────\n",
       "          \n",
       "c: 3/═════\n",
       "          "
      ]
     },
     "execution_count": 16,
     "metadata": {},
     "output_type": "execute_result"
    }
   ],
   "source": [
    "circuit.draw()"
   ]
  },
  {
   "cell_type": "code",
   "execution_count": 17,
   "id": "2c49ca40",
   "metadata": {},
   "outputs": [
    {
     "data": {
      "text/plain": [
       "<qiskit.circuit.instructionset.InstructionSet at 0x7fc65a9e9040>"
      ]
     },
     "execution_count": 17,
     "metadata": {},
     "output_type": "execute_result"
    }
   ],
   "source": [
    "circuit.barrier()"
   ]
  },
  {
   "cell_type": "code",
   "execution_count": 18,
   "id": "0807c591",
   "metadata": {},
   "outputs": [
    {
     "data": {
      "text/html": [
       "<pre style=\"word-wrap: normal;white-space: pre;background: #fff0;line-height: 1.1;font-family: &quot;Courier New&quot;,Courier,monospace\">     ┌───┐ ░ \n",
       "q_0: ┤ X ├─░─\n",
       "     └───┘ ░ \n",
       "q_1: ──────░─\n",
       "           ░ \n",
       "q_2: ──────░─\n",
       "           ░ \n",
       "c: 3/════════\n",
       "             </pre>"
      ],
      "text/plain": [
       "     ┌───┐ ░ \n",
       "q_0: ┤ X ├─░─\n",
       "     └───┘ ░ \n",
       "q_1: ──────░─\n",
       "           ░ \n",
       "q_2: ──────░─\n",
       "           ░ \n",
       "c: 3/════════\n",
       "             "
      ]
     },
     "execution_count": 18,
     "metadata": {},
     "output_type": "execute_result"
    }
   ],
   "source": [
    "circuit.draw()"
   ]
  },
  {
   "cell_type": "code",
   "execution_count": 19,
   "id": "ec74e1e6",
   "metadata": {},
   "outputs": [
    {
     "data": {
      "text/plain": [
       "<qiskit.circuit.instructionset.InstructionSet at 0x7fc65ae00d00>"
      ]
     },
     "execution_count": 19,
     "metadata": {},
     "output_type": "execute_result"
    }
   ],
   "source": [
    "circuit.h([0])"
   ]
  },
  {
   "cell_type": "code",
   "execution_count": 20,
   "id": "098e2861",
   "metadata": {},
   "outputs": [
    {
     "data": {
      "text/html": [
       "<pre style=\"word-wrap: normal;white-space: pre;background: #fff0;line-height: 1.1;font-family: &quot;Courier New&quot;,Courier,monospace\">     ┌───┐ ░ \n",
       "q_0: ┤ X ├─░─\n",
       "     └───┘ ░ \n",
       "q_1: ──────░─\n",
       "           ░ \n",
       "q_2: ──────░─\n",
       "           ░ \n",
       "c: 3/════════\n",
       "             </pre>"
      ],
      "text/plain": [
       "     ┌───┐ ░ \n",
       "q_0: ┤ X ├─░─\n",
       "     └───┘ ░ \n",
       "q_1: ──────░─\n",
       "           ░ \n",
       "q_2: ──────░─\n",
       "           ░ \n",
       "c: 3/════════\n",
       "             "
      ]
     },
     "execution_count": 20,
     "metadata": {},
     "output_type": "execute_result"
    }
   ],
   "source": [
    "circuit.data.pop(2)\n",
    "circuit.draw()"
   ]
  },
  {
   "cell_type": "code",
   "execution_count": 21,
   "id": "de7d10f2",
   "metadata": {},
   "outputs": [
    {
     "data": {
      "text/html": [
       "<pre style=\"word-wrap: normal;white-space: pre;background: #fff0;line-height: 1.1;font-family: &quot;Courier New&quot;,Courier,monospace\">     ┌───┐ ░      \n",
       "q_0: ┤ X ├─░──────\n",
       "     └───┘ ░ ┌───┐\n",
       "q_1: ──────░─┤ H ├\n",
       "           ░ └───┘\n",
       "q_2: ──────░──────\n",
       "           ░      \n",
       "c: 3/═════════════\n",
       "                  </pre>"
      ],
      "text/plain": [
       "     ┌───┐ ░      \n",
       "q_0: ┤ X ├─░──────\n",
       "     └───┘ ░ ┌───┐\n",
       "q_1: ──────░─┤ H ├\n",
       "           ░ └───┘\n",
       "q_2: ──────░──────\n",
       "           ░      \n",
       "c: 3/═════════════\n",
       "                  "
      ]
     },
     "execution_count": 21,
     "metadata": {},
     "output_type": "execute_result"
    }
   ],
   "source": [
    "circuit.h([1])\n",
    "circuit.draw()"
   ]
  },
  {
   "cell_type": "code",
   "execution_count": 23,
   "id": "485b9116",
   "metadata": {},
   "outputs": [
    {
     "data": {
      "image/png": "[encoded data removed]",
      "text/plain": [
       "<Figure size 387.597x264.88 with 1 Axes>"
      ]
     },
     "execution_count": 23,
     "metadata": {},
     "output_type": "execute_result"
    }
   ],
   "source": [
    "circuit.cx(1,2)\n",
    "circuit.draw(output='mpl')"
   ]
  },
  {
   "cell_type": "code",
   "execution_count": 24,
   "id": "90390786",
   "metadata": {},
   "outputs": [
    {
     "data": {
      "text/html": [
       "<pre style=\"word-wrap: normal;white-space: pre;background: #fff0;line-height: 1.1;font-family: &quot;Courier New&quot;,Courier,monospace\">     ┌───┐ ░           \n",
       "q_0: ┤ X ├─░───────────\n",
       "     └───┘ ░ ┌───┐     \n",
       "q_1: ──────░─┤ H ├──■──\n",
       "           ░ └───┘┌─┴─┐\n",
       "q_2: ──────░──────┤ X ├\n",
       "           ░      └───┘\n",
       "c: 3/══════════════════\n",
       "                       </pre>"
      ],
      "text/plain": [
       "     ┌───┐ ░           \n",
       "q_0: ┤ X ├─░───────────\n",
       "     └───┘ ░ ┌───┐     \n",
       "q_1: ──────░─┤ H ├──■──\n",
       "           ░ └───┘┌─┴─┐\n",
       "q_2: ──────░──────┤ X ├\n",
       "           ░      └───┘\n",
       "c: 3/══════════════════\n",
       "                       "
      ]
     },
     "execution_count": 24,
     "metadata": {},
     "output_type": "execute_result"
    }
   ],
   "source": [
    "circuit.data.pop(4)\n",
    "circuit.draw()"
   ]
  },
  {
   "cell_type": "code",
   "execution_count": 25,
   "id": "2ee5541f",
   "metadata": {},
   "outputs": [
    {
     "data": {
      "image/png": "[encoded data removed]",
      "text/plain": [
       "<Figure size 447.797x264.88 with 1 Axes>"
      ]
     },
     "execution_count": 25,
     "metadata": {},
     "output_type": "execute_result"
    }
   ],
   "source": [
    "circuit.cx(0,1)\n",
    "circuit.h([0])\n",
    "circuit.draw(output='mpl')"
   ]
  },
  {
   "cell_type": "code",
   "execution_count": 26,
   "id": "87b65c41",
   "metadata": {},
   "outputs": [
    {
     "data": {
      "image/png": "[encoded data removed]",
      "text/plain": [
       "<Figure size 628.397x264.88 with 1 Axes>"
      ]
     },
     "execution_count": 26,
     "metadata": {},
     "output_type": "execute_result"
    }
   ],
   "source": [
    "circuit.barrier()\n",
    "circuit.measure([0,1], [0,1])\n",
    "circuit.draw(output='mpl')"
   ]
  },
  {
   "cell_type": "code",
   "execution_count": 27,
   "id": "92b3820a",
   "metadata": {},
   "outputs": [
    {
     "data": {
      "text/plain": [
       "<qiskit.circuit.instructionset.InstructionSet at 0x7fc65af718c0>"
      ]
     },
     "execution_count": 27,
     "metadata": {},
     "output_type": "execute_result"
    }
   ],
   "source": [
    "circuit.barrier()"
   ]
  },
  {
   "cell_type": "code",
   "execution_count": 28,
   "id": "37ef0d07",
   "metadata": {},
   "outputs": [
    {
     "data": {
      "image/png": "[encoded data removed]",
      "text/plain": [
       "<Figure size 808.997x264.88 with 1 Axes>"
      ]
     },
     "execution_count": 28,
     "metadata": {},
     "output_type": "execute_result"
    }
   ],
   "source": [
    "circuit.cx(1,2)\n",
    "circuit.cz(0,2)\n",
    "circuit.draw(output='mpl')"
   ]
  },
  {
   "cell_type": "code",
   "execution_count": 29,
   "id": "9e8e9242",
   "metadata": {},
   "outputs": [
    {
     "data": {
      "text/plain": [
       "<qiskit.circuit.instructionset.InstructionSet at 0x7fc65b150ac0>"
      ]
     },
     "execution_count": 29,
     "metadata": {},
     "output_type": "execute_result"
    }
   ],
   "source": [
    "circuit.measure(2, 2)\n"
   ]
  },
  {
   "cell_type": "code",
   "execution_count": 30,
   "id": "5fea6fa9",
   "metadata": {},
   "outputs": [
    {
     "data": {
      "text/html": [
       "<pre style=\"word-wrap: normal;white-space: pre;background: #fff0;line-height: 1.1;font-family: &quot;Courier New&quot;,Courier,monospace\">     ┌───┐ ░                ┌───┐ ░ ┌─┐    ░            \n",
       "q_0: ┤ X ├─░─────────────■──┤ H ├─░─┤M├────░───────■────\n",
       "     └───┘ ░ ┌───┐     ┌─┴─┐└───┘ ░ └╥┘┌─┐ ░       │    \n",
       "q_1: ──────░─┤ H ├──■──┤ X ├──────░──╫─┤M├─░───■───┼────\n",
       "           ░ └───┘┌─┴─┐└───┘      ░  ║ └╥┘ ░ ┌─┴─┐ │ ┌─┐\n",
       "q_2: ──────░──────┤ X ├───────────░──╫──╫──░─┤ X ├─■─┤M├\n",
       "           ░      └───┘           ░  ║  ║  ░ └───┘   └╥┘\n",
       "c: 3/════════════════════════════════╩══╩═════════════╩═\n",
       "                                     0  1             2 </pre>"
      ],
      "text/plain": [
       "     ┌───┐ ░                ┌───┐ ░ ┌─┐    ░            \n",
       "q_0: ┤ X ├─░─────────────■──┤ H ├─░─┤M├────░───────■────\n",
       "     └───┘ ░ ┌───┐     ┌─┴─┐└───┘ ░ └╥┘┌─┐ ░       │    \n",
       "q_1: ──────░─┤ H ├──■──┤ X ├──────░──╫─┤M├─░───■───┼────\n",
       "           ░ └───┘┌─┴─┐└───┘      ░  ║ └╥┘ ░ ┌─┴─┐ │ ┌─┐\n",
       "q_2: ──────░──────┤ X ├───────────░──╫──╫──░─┤ X ├─■─┤M├\n",
       "           ░      └───┘           ░  ║  ║  ░ └───┘   └╥┘\n",
       "c: 3/════════════════════════════════╩══╩═════════════╩═\n",
       "                                     0  1             2 "
      ]
     },
     "execution_count": 30,
     "metadata": {},
     "output_type": "execute_result"
    }
   ],
   "source": [
    "circuit.draw()"
   ]
  },
  {
   "cell_type": "code",
   "execution_count": 32,
   "id": "e40c7eaa",
   "metadata": {},
   "outputs": [
    {
     "data": {
      "image/png": "[encoded data removed]",
      "text/plain": [
       "<Figure size 504x360 with 1 Axes>"
      ]
     },
     "execution_count": 32,
     "metadata": {},
     "output_type": "execute_result"
    }
   ],
   "source": [
    "simulator = Aer.get_backend('qasm_simulator')\n",
    "result = execute(circuit, backend = simulator, shots = 1024).result()\n",
    "counts = result.get_counts()\n",
    "from qiskit.tools.visualization import plot_histogram\n",
    "plot_histogram(counts)"
   ]
  },
  {
   "cell_type": "code",
   "execution_count": null,
   "id": "8c142aec",
   "metadata": {},
   "outputs": [],
   "source": []
  }
 ],
 "metadata": {
  "kernelspec": {
   "display_name": "Python 3 (ipykernel)",
   "language": "python",
   "name": "python3"
  },
  "language_info": {
   "codemirror_mode": {
    "name": "ipython",
    "version": 3
   },
   "file_extension": ".py",
   "mimetype": "text/x-python",
   "name": "python",
   "nbconvert_exporter": "python",
   "pygments_lexer": "ipython3",
   "version": "3.9.12"
  }
 },
 "nbformat": 4,
 "nbformat_minor": 5
}
