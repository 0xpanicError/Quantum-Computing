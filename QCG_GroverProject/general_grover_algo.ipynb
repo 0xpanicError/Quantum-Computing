{
 "cells": [
  {
   "cell_type": "code",
   "execution_count": 1,
   "id": "0496c1f1",
   "metadata": {},
   "outputs": [],
   "source": [
    "from qiskit import *"
   ]
  },
  {
   "cell_type": "code",
   "execution_count": 4,
   "id": "1825aa42",
   "metadata": {},
   "outputs": [
    {
     "name": "stdout",
     "output_type": "stream",
     "text": [
      "n_qubits3\n"
     ]
    }
   ],
   "source": [
    "#input number of qubits\n",
    "n_qubits = input('n_qubits')"
   ]
  },
  {
   "cell_type": "code",
   "execution_count": 9,
   "id": "d556d159",
   "metadata": {},
   "outputs": [
    {
     "data": {
      "text/plain": [
       "<qiskit.circuit.instructionset.InstructionSet at 0x7faa75d49bc0>"
      ]
     },
     "execution_count": 9,
     "metadata": {},
     "output_type": "execute_result"
    }
   ],
   "source": [
    "#GroverCircuit\n",
    "n_qubits = int(n_qubits)\n",
    "GroverCircuit = QuantumCircuit(n_qubits, n_qubits)\n",
    "GroverCircuit.h(range(n_qubits))"
   ]
  },
  {
   "cell_type": "code",
   "execution_count": 11,
   "id": "8fdb8319",
   "metadata": {},
   "outputs": [
    {
     "data": {
      "text/html": [
       "<pre style=\"word-wrap: normal;white-space: pre;background: #fff0;line-height: 1.1;font-family: &quot;Courier New&quot;,Courier,monospace\">     ┌───┐\n",
       "q_0: ┤ H ├\n",
       "     ├───┤\n",
       "q_1: ┤ H ├\n",
       "     ├───┤\n",
       "q_2: ┤ H ├\n",
       "     └───┘\n",
       "c: 3/═════\n",
       "          </pre>"
      ],
      "text/plain": [
       "     ┌───┐\n",
       "q_0: ┤ H ├\n",
       "     ├───┤\n",
       "q_1: ┤ H ├\n",
       "     ├───┤\n",
       "q_2: ┤ H ├\n",
       "     └───┘\n",
       "c: 3/═════\n",
       "          "
      ]
     },
     "execution_count": 11,
     "metadata": {},
     "output_type": "execute_result"
    }
   ],
   "source": [
    "GroverCircuit.draw()"
   ]
  },
  {
   "cell_type": "code",
   "execution_count": 12,
   "id": "48be7956",
   "metadata": {},
   "outputs": [
    {
     "data": {
      "text/plain": [
       "<qiskit.circuit.instructionset.InstructionSet at 0x7faa774ac9c0>"
      ]
     },
     "execution_count": 12,
     "metadata": {},
     "output_type": "execute_result"
    }
   ],
   "source": [
    "GroverCircuit.barrier()"
   ]
  },
  {
   "cell_type": "code",
   "execution_count": 18,
   "id": "baa3a168",
   "metadata": {},
   "outputs": [
    {
     "data": {
      "text/html": [
       "<pre style=\"word-wrap: normal;white-space: pre;background: #fff0;line-height: 1.1;font-family: &quot;Courier New&quot;,Courier,monospace\">     ┌───┐ ░             \n",
       "q_0: ┤ H ├─░──■──■──■──■─\n",
       "     ├───┤ ░  │  │  │  │ \n",
       "q_1: ┤ H ├─░──■──┼──┼──■─\n",
       "     ├───┤ ░     │  │    \n",
       "q_2: ┤ H ├─░─────■──■────\n",
       "     └───┘ ░             \n",
       "c: 3/════════════════════\n",
       "                         </pre>"
      ],
      "text/plain": [
       "     ┌───┐ ░             \n",
       "q_0: ┤ H ├─░──■──■──■──■─\n",
       "     ├───┤ ░  │  │  │  │ \n",
       "q_1: ┤ H ├─░──■──┼──┼──■─\n",
       "     ├───┤ ░     │  │    \n",
       "q_2: ┤ H ├─░─────■──■────\n",
       "     └───┘ ░             \n",
       "c: 3/════════════════════\n",
       "                         "
      ]
     },
     "execution_count": 18,
     "metadata": {},
     "output_type": "execute_result"
    }
   ],
   "source": [
    "#Oracle\n",
    "GroverCircuit.cz(1, 0)\n",
    "GroverCircuit.draw()"
   ]
  },
  {
   "cell_type": "code",
   "execution_count": 22,
   "id": "83b79e2f",
   "metadata": {},
   "outputs": [
    {
     "data": {
      "text/html": [
       "<pre style=\"word-wrap: normal;white-space: pre;background: #fff0;line-height: 1.1;font-family: &quot;Courier New&quot;,Courier,monospace\">     ┌───┐ ░       \n",
       "q_0: ┤ H ├─░──■──■─\n",
       "     ├───┤ ░  │  │ \n",
       "q_1: ┤ H ├─░──■──■─\n",
       "     ├───┤ ░       \n",
       "q_2: ┤ H ├─░───────\n",
       "     └───┘ ░       \n",
       "c: 3/══════════════\n",
       "                   </pre>"
      ],
      "text/plain": [
       "     ┌───┐ ░       \n",
       "q_0: ┤ H ├─░──■──■─\n",
       "     ├───┤ ░  │  │ \n",
       "q_1: ┤ H ├─░──■──■─\n",
       "     ├───┤ ░       \n",
       "q_2: ┤ H ├─░───────\n",
       "     └───┘ ░       \n",
       "c: 3/══════════════\n",
       "                   "
      ]
     },
     "execution_count": 22,
     "metadata": {},
     "output_type": "execute_result"
    }
   ],
   "source": [
    "GroverCircuit.data.pop(5)\n",
    "GroverCircuit.draw()"
   ]
  },
  {
   "cell_type": "code",
   "execution_count": null,
   "id": "be5efb72",
   "metadata": {},
   "outputs": [],
   "source": []
  }
 ],
 "metadata": {
  "kernelspec": {
   "display_name": "Python 3 (ipykernel)",
   "language": "python",
   "name": "python3"
  },
  "language_info": {
   "codemirror_mode": {
    "name": "ipython",
    "version": 3
   },
   "file_extension": ".py",
   "mimetype": "text/x-python",
   "name": "python",
   "nbconvert_exporter": "python",
   "pygments_lexer": "ipython3",
   "version": "3.9.12"
  }
 },
 "nbformat": 4,
 "nbformat_minor": 5
}
