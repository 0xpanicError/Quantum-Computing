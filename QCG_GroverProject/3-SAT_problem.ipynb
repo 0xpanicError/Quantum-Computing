{
 "cells": [
  {
   "cell_type": "code",
   "execution_count": 3,
   "id": "262b5498",
   "metadata": {},
   "outputs": [],
   "source": [
    "from qiskit import *\n",
    "import numpy as np\n",
    "from qiskit.tools.visualization import plot_histogram\n",
    "from qiskit.utils import QuantumInstance\n",
    "from qiskit.algorithms import Grover, AmplificationProblem\n",
    "from qiskit.circuit.library import PhaseOracle"
   ]
  },
  {
   "cell_type": "code",
   "execution_count": 5,
   "id": "c56b070d",
   "metadata": {},
   "outputs": [],
   "source": [
    "log_expr = PhaseOracle('((Olivia & Abe) | (Jin & Amira) & ~(Abe & Amira))')\n",
    "backend = BasicAer.get_backend('qasm_simulator')\n",
    "qinstance = QuantumInstance(backend, shots=1024)\n",
    "problem = AmplificationProblem(oracle=log_expr)\n",
    "algorithm = Grover(quantum_instance=qinstance)"
   ]
  },
  {
   "cell_type": "code",
   "execution_count": 6,
   "id": "3d22fa56",
   "metadata": {
    "scrolled": true
   },
   "outputs": [],
   "source": [
    "result = algorithm.amplify(problem)"
   ]
  },
  {
   "cell_type": "code",
   "execution_count": 7,
   "id": "9eac777b",
   "metadata": {},
   "outputs": [
    {
     "data": {
      "text/plain": [
       "'0011'"
      ]
     },
     "execution_count": 7,
     "metadata": {},
     "output_type": "execute_result"
    }
   ],
   "source": [
    "result.top_measurement"
   ]
  },
  {
   "cell_type": "code",
   "execution_count": null,
   "id": "063a2822",
   "metadata": {},
   "outputs": [],
   "source": []
  }
 ],
 "metadata": {
  "kernelspec": {
   "display_name": "Python 3 (ipykernel)",
   "language": "python",
   "name": "python3"
  },
  "language_info": {
   "codemirror_mode": {
    "name": "ipython",
    "version": 3
   },
   "file_extension": ".py",
   "mimetype": "text/x-python",
   "name": "python",
   "nbconvert_exporter": "python",
   "pygments_lexer": "ipython3",
   "version": "3.9.12"
  }
 },
 "nbformat": 4,
 "nbformat_minor": 5
}
